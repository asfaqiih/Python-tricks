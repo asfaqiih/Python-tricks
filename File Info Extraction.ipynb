{
 "cells": [
  {
   "cell_type": "code",
   "execution_count": 2,
   "id": "356930da-463c-4df3-ae11-6de8c93166e6",
   "metadata": {
    "tags": []
   },
   "outputs": [],
   "source": [
    "import os, time\n",
    "import pandas as pd\n",
    "from datetime import datetime\n",
    "\n",
    "def get_file_info(path):\n",
    "    \n",
    "    file_list = []\n",
    "\n",
    "    for root, dirs, files in os.walk(path):\n",
    "        for file_name in files:\n",
    "            file_path = os.path.join(root,\n",
    "                            file_name).replace('\\\\', '/')\n",
    "            file_stats = os.stat(file_path)\n",
    "            file_info = {\n",
    "                'Path':root,\n",
    "                'File Name':file_name.split('.')[0],\n",
    "                'Type':os.path.splitext(file_name)[-1],\n",
    "                'Size (MB)':round(file_stats.st_size / 1024, 2),\n",
    "                'Time Created':datetime.fromtimestamp(file_stats.st_ctime).strftime('%Y-%m-%d'),\n",
    "                'Last Modified':datetime.fromtimestamp(file_stats.st_mtime).strftime('%Y-%m-%d'),\n",
    "                'Last Accessed':datetime.fromtimestamp(file_stats.st_atime).strftime('%Y-%m-%d')\n",
    "            }\n",
    "            file_list.append(file_info)\n",
    "            df = pd.DataFrame(file_list)\n",
    "        \n",
    "    return df\n",
    "\n",
    "path = 'C:/Users/User/Desktop/Books' # put your path here\n",
    "df = get_file_info(path)"
   ]
  }
 ],
 "metadata": {
  "kernelspec": {
   "display_name": "Python 3 (ipykernel)",
   "language": "python",
   "name": "python3"
  },
  "language_info": {
   "codemirror_mode": {
    "name": "ipython",
    "version": 3
   },
   "file_extension": ".py",
   "mimetype": "text/x-python",
   "name": "python",
   "nbconvert_exporter": "python",
   "pygments_lexer": "ipython3",
   "version": "3.11.4"
  }
 },
 "nbformat": 4,
 "nbformat_minor": 5
}
